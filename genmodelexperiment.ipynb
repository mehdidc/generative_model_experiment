{
 "cells": [
  {
   "cell_type": "code",
   "execution_count": 18,
   "metadata": {
    "collapsed": true
   },
   "outputs": [],
   "source": [
    "import numpy as np"
   ]
  },
  {
   "cell_type": "code",
   "execution_count": 19,
   "metadata": {
    "collapsed": false
   },
   "outputs": [],
   "source": [
    "from lightexperiments.light import Light\n",
    "import tabulate\n",
    "from pyearth import Earth\n",
    "from sklearn.cross_validation import cross_val_score, KFold, ShuffleSplit, Bootstrap\n",
    "from sklearn.ensemble import RandomForestRegressor\n",
    "from sklearn.linear_model import LinearRegression\n",
    "from sklearn.ensemble import AdaBoostRegressor, BaggingRegressor\n",
    "from itertools import product\n",
    "import pandas as pd\n",
    "from sklearn.utils import shuffle\n",
    "import pydot\n",
    "from IPython.display import SVG"
   ]
  },
  {
   "cell_type": "code",
   "execution_count": 20,
   "metadata": {
    "collapsed": true
   },
   "outputs": [],
   "source": [
    "light = Light()"
   ]
  },
  {
   "cell_type": "code",
   "execution_count": 21,
   "metadata": {
    "collapsed": true
   },
   "outputs": [],
   "source": [
    "light.launch()"
   ]
  },
  {
   "cell_type": "code",
   "execution_count": 22,
   "metadata": {
    "collapsed": false
   },
   "outputs": [],
   "source": [
    "exp = []\n",
    "for e  in light.db.find({\"tags\": [\"model_hyperparameters\"]}):\n",
    "    exp.append(e)\n",
    "light.close()"
   ]
  },
  {
   "cell_type": "code",
   "execution_count": 26,
   "metadata": {
    "collapsed": false,
    "scrolled": true
   },
   "outputs": [],
   "source": [
    "df = pd.DataFrame(exp)\n",
    "df = df[df[\"name\"]==\"NADE\"]\n",
    "df = df[df[\"dataset\"]==\"digits\"]"
   ]
  },
  {
   "cell_type": "code",
   "execution_count": 40,
   "metadata": {
    "collapsed": false
   },
   "outputs": [
    {
     "name": "stdout",
     "output_type": "stream",
     "text": [
      "((100, 5), (100,))\n",
      "[ 27.20050235  27.1832049   27.20474816  27.18412146  27.24703035\n",
      "  27.21033584  27.25548462  27.18803611  27.19624361  27.20801612\n",
      "  27.20500067  27.21120209  27.19808087  27.19607306  27.20859658\n",
      "  27.18166228  27.18376715  27.20991401  27.19834385  27.21789802\n",
      "  27.19631802  27.18785283  27.22870627  27.20002114  27.19052643\n",
      "  27.20409073  27.2194152   27.19546126  27.18705766  27.18106971\n",
      "  27.20246508  27.16103614  27.17882936  27.20015001  27.223667\n",
      "  27.19526501  27.20814254  27.18729217  27.22395826  27.19443601\n",
      "  27.21004807  27.19055718  27.19820918  27.19264673  27.1901641\n",
      "  27.18347562  27.20030501  27.21919784  27.20091292  27.20918373\n",
      "  27.19188279  27.24646021  27.22615788  27.20514308  27.21277807\n",
      "  27.22100027  27.18499146  27.19341929  27.208734    27.18618658\n",
      "  27.20638991  27.18267969  27.19532021  27.22003258  27.16356973\n",
      "  27.20900813  27.22400984  27.20630376  27.18988198  27.20957874\n",
      "  27.18643273  27.19076501  27.20930367  27.18200881  27.17355754\n",
      "  27.18258909  27.2102651   27.19226751  27.18194709  27.21903846\n",
      "  27.19206634  27.18256516  27.20477291  27.19420147  27.21336902\n",
      "  27.20598513  27.19792754  27.18124475  27.18504164  27.19606486\n",
      "  27.19423358  27.19552394  27.20236939  27.15581237  27.23048399\n",
      "  27.20207187  27.17659468  27.18499203  27.17313472  27.17344041]\n"
     ]
    }
   ],
   "source": [
    "labels = [\"batch_size\", \n",
    "          #\"latent_dim\",\n",
    "          \"learning_rate\", \n",
    "          \"momentum\", \n",
    "          \"nb_units\",#nade\n",
    "          \"nb_layers\",#nade\n",
    "        #  \"nb_layers_decoder\", # va\n",
    "        #  \"nb_layers_encoder\", # va\n",
    "        #  \"nb_units_encoder\",  # va\n",
    "        #  \"nb_units_decoder\"   # va\n",
    "]\n",
    "X = df[labels].values\n",
    "y = df[[\"score\"]].values\n",
    "y = y[:, 0]\n",
    "print(X.shape, y.shape)\n",
    "print(y)"
   ]
  },
  {
   "cell_type": "code",
   "execution_count": 41,
   "metadata": {
    "collapsed": false
   },
   "outputs": [
    {
     "name": "stdout",
     "output_type": "stream",
     "text": [
      "[ 0.00039794  0.00026805  0.00027688  0.00027342  0.00033143]\n",
      "(0.00030954481160380026, 4.9769781039680689e-05)\n"
     ]
    }
   ],
   "source": [
    "#model = LinearRegression()\n",
    "model = Earth(max_terms=40,\n",
    "              thresh=0,\n",
    "              max_degree=20)\n",
    "#model = RandomForestRegressor(n_estimators=300, max_depth=1)\n",
    "from sklearn.gaussian_process import GaussianProcess\n",
    "scores = cross_val_score(model, \n",
    "                         X, \n",
    "                         y, \n",
    "                        # fit_params=dict(linvars=labels, xlabels=labels),\n",
    "                         cv=5, \n",
    "                         scoring=lambda est, X, y:((est.predict(X)-y)**2).mean())\n",
    "print(scores)\n",
    "print(scores.mean(), scores.std())"
   ]
  },
  {
   "cell_type": "code",
   "execution_count": 43,
   "metadata": {
    "collapsed": false,
    "scrolled": true
   },
   "outputs": [
    {
     "name": "stdout",
     "output_type": "stream",
     "text": [
      "train : 0.0131413422345, test : 0.0137995227747\n",
      "train : 0.0135243177569, test : 0.0126942839852\n",
      "train : 0.0134254343044, test : 0.0126631544949\n",
      "train : 0.0130852138594, test : 0.0146047558575\n",
      "train : 0.0133756468833, test : 0.0141125743789\n",
      "[ 0.01379952  0.01269428  0.01266315  0.01460476  0.01411257]\n",
      "(0.01357485829824423, 0.00077548908940683467)\n",
      "CPU times: user 252 ms, sys: 9 ms, total: 261 ms\n",
      "Wall time: 259 ms\n"
     ]
    }
   ],
   "source": [
    "%%time\n",
    "models = []\n",
    "mse=[]\n",
    "for train, test in KFold(X.shape[0], n_folds=5):\n",
    "    model = Earth(max_terms=10, \n",
    "                  thresh=0.001, \n",
    "                  check_every=1,\n",
    "                  penalty=10,\n",
    "                  enable_pruning=True,\n",
    "                  #smooth=True,\n",
    "                  max_degree=5)\n",
    "    #model = RandomForestRegressor(n_estimators=300, max_depth=10)\n",
    "    #model.fit(X[train], y[train])\n",
    "    model.fit(X[train], y[train],\n",
    "              #linvars=labels,\n",
    "    #          xlabels=labels\n",
    "    )\n",
    "    #pqrint(model.summary())\n",
    "    m_train=((np.abs(model.predict(X[train]) - y[train])).mean())\n",
    "    m_test=((np.abs(model.predict(X[test]) - y[test])).mean())\n",
    "    print(\"train : {0}, test : {1}\".format(m_train, m_test))\n",
    "    mse.append(m_test)\n",
    "    models.append(model)\n",
    "mse = np.array(mse)\n",
    "print(mse)\n",
    "print(mse.mean(), mse.std())"
   ]
  },
  {
   "cell_type": "code",
   "execution_count": 44,
   "metadata": {
    "collapsed": true
   },
   "outputs": [],
   "source": [
    "def draw(models, thresh=0.8):\n",
    "    graph = pydot.Dot(graph_type='graph')\n",
    "\n",
    "    nodes = dict()\n",
    "    for label in labels:\n",
    "        nodes[label] = pydot.Node(label)\n",
    "    nodes_used = set()\n",
    "    \n",
    "    for model in models:\n",
    "        for bf in model.basis_:\n",
    "            nodes_used |= set([labels[v] for v in bf.variables()])\n",
    "    for node in nodes_used:\n",
    "        graph.add_node(nodes[node])\n",
    "\n",
    "    all_edges = dict()\n",
    "    for model in models:\n",
    "        edges = dict()\n",
    "\n",
    "        for bf in model.basis_:\n",
    "            names = [labels[v] for v in bf.variables()]\n",
    "            for n1, n2 in product(names, repeat=2):\n",
    "                if n1 == n2:\n",
    "                    continue\n",
    "                if n1 < n2:\n",
    "                    n1, n2 = n2, n1\n",
    "                if (n1, n2) not in edges:\n",
    "                    edges[(n1, n2)] = 1                    \n",
    "                else:\n",
    "                    edges[(n1, n2)] += 1\n",
    "        for n1, n2 in edges.keys():\n",
    "            if (n1, n2) in all_edges:\n",
    "                all_edges[(n1,  n2)] += 1\n",
    "            else:\n",
    "                all_edges[(n1, n2)] = 1\n",
    "    \n",
    "    for (n1, n2), nb in all_edges.items():\n",
    "        ratio =  float(nb) / len(models)\n",
    "        if ratio >= thresh:\n",
    "            edge = pydot.Edge(nodes[n1], nodes[n2])\n",
    "            graph.add_edge(edge)\n",
    "    graph.write_svg('a.svg')\n",
    "    return SVG(\"a.svg\") "
   ]
  },
  {
   "cell_type": "code",
   "execution_count": 48,
   "metadata": {
    "collapsed": false
   },
   "outputs": [
    {
     "data": {
      "image/svg+xml": [
       "<svg height=\"188pt\" viewBox=\"0.00 0.00 211.88 188.00\" width=\"212pt\" xmlns=\"http://www.w3.org/2000/svg\" xmlns:xlink=\"http://www.w3.org/1999/xlink\">\n",
       "<g class=\"graph\" id=\"graph0\" transform=\"scale(1 1) rotate(0) translate(4 184)\">\n",
       "<title>G</title>\n",
       "<polygon fill=\"white\" points=\"-4,4 -4,-184 207.88,-184 207.88,4 -4,4\" stroke=\"none\"/>\n",
       "<!-- nb_layers -->\n",
       "<g class=\"node\" id=\"node1\"><title>nb_layers</title>\n",
       "<ellipse cx=\"48.5779\" cy=\"-162\" fill=\"none\" rx=\"48.6559\" ry=\"18\" stroke=\"black\"/>\n",
       "<text font-family=\"Times,serif\" font-size=\"14.00\" text-anchor=\"middle\" x=\"48.5779\" y=\"-157.8\">nb_layers</text>\n",
       "</g>\n",
       "<!-- momentum -->\n",
       "<g class=\"node\" id=\"node4\"><title>momentum</title>\n",
       "<ellipse cx=\"76.5779\" cy=\"-90\" fill=\"none\" rx=\"55.0575\" ry=\"18\" stroke=\"black\"/>\n",
       "<text font-family=\"Times,serif\" font-size=\"14.00\" text-anchor=\"middle\" x=\"76.5779\" y=\"-85.8\">momentum</text>\n",
       "</g>\n",
       "<!-- nb_layers&#45;&#45;momentum -->\n",
       "<g class=\"edge\" id=\"edge1\"><title>nb_layers--momentum</title>\n",
       "<path d=\"M55.3559,-144.055C59.6935,-133.211 65.3047,-119.183 69.6678,-108.275\" fill=\"none\" stroke=\"black\"/>\n",
       "</g>\n",
       "<!-- learning_rate -->\n",
       "<g class=\"node\" id=\"node2\"><title>learning_rate</title>\n",
       "<ellipse cx=\"117.578\" cy=\"-18\" fill=\"none\" rx=\"61.9557\" ry=\"18\" stroke=\"black\"/>\n",
       "<text font-family=\"Times,serif\" font-size=\"14.00\" text-anchor=\"middle\" x=\"117.578\" y=\"-13.8\">learning_rate</text>\n",
       "</g>\n",
       "<!-- nb_units -->\n",
       "<g class=\"node\" id=\"node3\"><title>nb_units</title>\n",
       "<ellipse cx=\"159.578\" cy=\"-162\" fill=\"none\" rx=\"44.1045\" ry=\"18\" stroke=\"black\"/>\n",
       "<text font-family=\"Times,serif\" font-size=\"14.00\" text-anchor=\"middle\" x=\"159.578\" y=\"-157.8\">nb_units</text>\n",
       "</g>\n",
       "<!-- nb_units&#45;&#45;learning_rate -->\n",
       "<g class=\"edge\" id=\"edge4\"><title>nb_units--learning_rate</title>\n",
       "<path d=\"M156.987,-144.008C153.987,-125.902 148.431,-96.5267 140.578,-72 136.602,-59.5815 130.733,-46.1082 125.919,-35.8539\" fill=\"none\" stroke=\"black\"/>\n",
       "</g>\n",
       "<!-- nb_units&#45;&#45;momentum -->\n",
       "<g class=\"edge\" id=\"edge3\"><title>nb_units--momentum</title>\n",
       "<path d=\"M141.157,-145.465C127.594,-134.026 109.208,-118.519 95.5222,-106.977\" fill=\"none\" stroke=\"black\"/>\n",
       "</g>\n",
       "<!-- momentum&#45;&#45;learning_rate -->\n",
       "<g class=\"edge\" id=\"edge2\"><title>momentum--learning_rate</title>\n",
       "<path d=\"M86.5028,-72.055C92.9491,-61.0492 101.316,-46.7636 107.744,-35.789\" fill=\"none\" stroke=\"black\"/>\n",
       "</g>\n",
       "</g>\n",
       "</svg>"
      ],
      "text/plain": [
       "<IPython.core.display.SVG object>"
      ]
     },
     "execution_count": 48,
     "metadata": {},
     "output_type": "execute_result"
    }
   ],
   "source": [
    "draw(models, thresh=0.6)"
   ]
  }
 ],
 "metadata": {
  "kernelspec": {
   "display_name": "Python 2",
   "language": "python",
   "name": "python2"
  },
  "language_info": {
   "codemirror_mode": {
    "name": "ipython",
    "version": 2
   },
   "file_extension": ".py",
   "mimetype": "text/x-python",
   "name": "python",
   "nbconvert_exporter": "python",
   "pygments_lexer": "ipython2",
   "version": "2.7.10"
  }
 },
 "nbformat": 4,
 "nbformat_minor": 0
}
